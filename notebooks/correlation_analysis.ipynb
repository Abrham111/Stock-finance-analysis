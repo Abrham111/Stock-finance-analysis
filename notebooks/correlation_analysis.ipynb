{
 "cells": [
  {
   "cell_type": "code",
   "execution_count": 4,
   "metadata": {},
   "outputs": [],
   "source": [
    "import pandas as pd\n",
    "import sys\n",
    "sys.path.append('../scripts')\n",
    "import correlation as coran"
   ]
  },
  {
   "cell_type": "code",
   "execution_count": 5,
   "metadata": {},
   "outputs": [
    {
     "name": "stdout",
     "output_type": "stream",
     "text": [
      "Index(['Date', 'Open', 'High', 'Low', 'Close', 'Adj Close', 'Volume',\n",
      "       'Dividends', 'Stock Splits'],\n",
      "      dtype='object')\n",
      "         Date      Open      High       Low     Close  Adj Close     Volume  \\\n",
      "0  1980-12-12  0.128348  0.128906  0.128348  0.128348   0.098943  469033600   \n",
      "1  1980-12-15  0.122210  0.122210  0.121652  0.121652   0.093781  175884800   \n",
      "2  1980-12-16  0.113281  0.113281  0.112723  0.112723   0.086898  105728000   \n",
      "3  1980-12-17  0.115513  0.116071  0.115513  0.115513   0.089049   86441600   \n",
      "4  1980-12-18  0.118862  0.119420  0.118862  0.118862   0.091630   73449600   \n",
      "\n",
      "   Dividends  Stock Splits  \n",
      "0        0.0           0.0  \n",
      "1        0.0           0.0  \n",
      "2        0.0           0.0  \n",
      "3        0.0           0.0  \n",
      "4        0.0           0.0  \n"
     ]
    }
   ],
   "source": [
    "# Read the CSV files into separate dataframes\n",
    "df_aapl = pd.read_csv(r'../dataset/AAPL_historical_data.csv')\n",
    "df_amzn = pd.read_csv(r'../dataset/AMZN_historical_data.csv')\n",
    "df_goog = pd.read_csv(r'../dataset/GOOG_historical_data.csv')\n",
    "df_meta = pd.read_csv(r'../dataset/META_historical_data.csv')\n",
    "df_msft = pd.read_csv(r'../dataset/MSFT_historical_data.csv')\n",
    "df_nvda = pd.read_csv(r'../dataset/NVDA_historical_data.csv')\n",
    "df_tsla = pd.read_csv(r'../dataset/TSLA_historical_data.csv')\n",
    "\n",
    "# Merge the dataframes\n",
    "stock_df = pd.concat([df_aapl, df_amzn, df_goog, df_meta, df_msft, df_nvda, df_tsla], ignore_index=True)\n",
    "\n",
    "print(stock_df.columns)\n",
    "print(stock_df.head())"
   ]
  },
  {
   "cell_type": "code",
   "execution_count": null,
   "metadata": {},
   "outputs": [],
   "source": [
    "news = pd.read_csv(r'../dataset\\raw_analyst_ratings.csv')\n",
    "\n",
    "# Display the correlation result\n",
    "correlation, merged_df = coran.analyze_correlation(news, stock_df)\n",
    "print(merged_df)\n",
    "print(\"Correlation between sentiment and daily stock returns:\", correlation)"
   ]
  },
  {
   "cell_type": "code",
   "execution_count": null,
   "metadata": {},
   "outputs": [],
   "source": []
  }
 ],
 "metadata": {
  "kernelspec": {
   "display_name": "venv",
   "language": "python",
   "name": "python3"
  },
  "language_info": {
   "codemirror_mode": {
    "name": "ipython",
    "version": 3
   },
   "file_extension": ".py",
   "mimetype": "text/x-python",
   "name": "python",
   "nbconvert_exporter": "python",
   "pygments_lexer": "ipython3",
   "version": "3.13.0"
  }
 },
 "nbformat": 4,
 "nbformat_minor": 2
}
